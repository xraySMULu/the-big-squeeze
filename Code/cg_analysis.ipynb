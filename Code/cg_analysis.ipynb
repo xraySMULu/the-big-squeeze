{
 "cells": [
  {
   "cell_type": "code",
   "execution_count": null,
   "metadata": {},
   "outputs": [
    {
     "name": "stdout",
     "output_type": "stream",
     "text": [
      "Requirement already satisfied: prophet in c:\\users\\37065890\\appdata\\local\\anaconda3\\lib\\site-packages (1.1.6)\n",
      "Requirement already satisfied: cmdstanpy>=1.0.4 in c:\\users\\37065890\\appdata\\local\\anaconda3\\lib\\site-packages (from prophet) (1.2.4)\n",
      "Requirement already satisfied: numpy>=1.15.4 in c:\\users\\37065890\\appdata\\local\\anaconda3\\lib\\site-packages (from prophet) (1.26.4)\n",
      "Requirement already satisfied: matplotlib>=2.0.0 in c:\\users\\37065890\\appdata\\local\\anaconda3\\lib\\site-packages (from prophet) (3.8.4)\n",
      "Requirement already satisfied: pandas>=1.0.4 in c:\\users\\37065890\\appdata\\local\\anaconda3\\lib\\site-packages (from prophet) (2.2.2)\n",
      "Requirement already satisfied: holidays<1,>=0.25 in c:\\users\\37065890\\appdata\\local\\anaconda3\\lib\\site-packages (from prophet) (0.62)\n",
      "Requirement already satisfied: tqdm>=4.36.1 in c:\\users\\37065890\\appdata\\local\\anaconda3\\lib\\site-packages (from prophet) (4.66.4)\n",
      "Requirement already satisfied: importlib-resources in c:\\users\\37065890\\appdata\\local\\anaconda3\\lib\\site-packages (from prophet) (6.4.5)\n",
      "Requirement already satisfied: stanio<2.0.0,>=0.4.0 in c:\\users\\37065890\\appdata\\local\\anaconda3\\lib\\site-packages (from cmdstanpy>=1.0.4->prophet) (0.5.1)\n",
      "Requirement already satisfied: python-dateutil in c:\\users\\37065890\\appdata\\local\\anaconda3\\lib\\site-packages (from holidays<1,>=0.25->prophet) (2.9.0.post0)\n",
      "Requirement already satisfied: contourpy>=1.0.1 in c:\\users\\37065890\\appdata\\local\\anaconda3\\lib\\site-packages (from matplotlib>=2.0.0->prophet) (1.2.0)\n",
      "Requirement already satisfied: cycler>=0.10 in c:\\users\\37065890\\appdata\\local\\anaconda3\\lib\\site-packages (from matplotlib>=2.0.0->prophet) (0.11.0)\n",
      "Requirement already satisfied: fonttools>=4.22.0 in c:\\users\\37065890\\appdata\\local\\anaconda3\\lib\\site-packages (from matplotlib>=2.0.0->prophet) (4.51.0)\n",
      "Requirement already satisfied: kiwisolver>=1.3.1 in c:\\users\\37065890\\appdata\\local\\anaconda3\\lib\\site-packages (from matplotlib>=2.0.0->prophet) (1.4.4)\n",
      "Requirement already satisfied: packaging>=20.0 in c:\\users\\37065890\\appdata\\local\\anaconda3\\lib\\site-packages (from matplotlib>=2.0.0->prophet) (23.2)\n",
      "Requirement already satisfied: pillow>=8 in c:\\users\\37065890\\appdata\\local\\anaconda3\\lib\\site-packages (from matplotlib>=2.0.0->prophet) (10.3.0)\n",
      "Requirement already satisfied: pyparsing>=2.3.1 in c:\\users\\37065890\\appdata\\local\\anaconda3\\lib\\site-packages (from matplotlib>=2.0.0->prophet) (3.0.9)\n",
      "Requirement already satisfied: pytz>=2020.1 in c:\\users\\37065890\\appdata\\local\\anaconda3\\lib\\site-packages (from pandas>=1.0.4->prophet) (2024.1)\n",
      "Requirement already satisfied: tzdata>=2022.7 in c:\\users\\37065890\\appdata\\local\\anaconda3\\lib\\site-packages (from pandas>=1.0.4->prophet) (2023.3)\n",
      "Requirement already satisfied: colorama in c:\\users\\37065890\\appdata\\local\\anaconda3\\lib\\site-packages (from tqdm>=4.36.1->prophet) (0.4.6)\n",
      "Requirement already satisfied: six>=1.5 in c:\\users\\37065890\\appdata\\local\\anaconda3\\lib\\site-packages (from python-dateutil->holidays<1,>=0.25->prophet) (1.16.0)\n",
      "Requirement already satisfied: hvplot in c:\\users\\37065890\\appdata\\local\\anaconda3\\lib\\site-packages (0.10.0)\n",
      "Requirement already satisfied: bokeh>=1.0.0 in c:\\users\\37065890\\appdata\\local\\anaconda3\\lib\\site-packages (from hvplot) (3.4.1)\n",
      "Requirement already satisfied: colorcet>=2 in c:\\users\\37065890\\appdata\\local\\anaconda3\\lib\\site-packages (from hvplot) (3.1.0)\n",
      "Requirement already satisfied: holoviews>=1.11.0 in c:\\users\\37065890\\appdata\\local\\anaconda3\\lib\\site-packages (from hvplot) (1.19.0)\n",
      "Requirement already satisfied: numpy>=1.15 in c:\\users\\37065890\\appdata\\local\\anaconda3\\lib\\site-packages (from hvplot) (1.26.4)\n",
      "Requirement already satisfied: packaging in c:\\users\\37065890\\appdata\\local\\anaconda3\\lib\\site-packages (from hvplot) (23.2)\n",
      "Requirement already satisfied: pandas in c:\\users\\37065890\\appdata\\local\\anaconda3\\lib\\site-packages (from hvplot) (2.2.2)\n",
      "Requirement already satisfied: panel>=0.11.0 in c:\\users\\37065890\\appdata\\local\\anaconda3\\lib\\site-packages (from hvplot) (1.4.4)\n",
      "Requirement already satisfied: param<3.0,>=1.12.0 in c:\\users\\37065890\\appdata\\local\\anaconda3\\lib\\site-packages (from hvplot) (2.1.0)\n",
      "Requirement already satisfied: Jinja2>=2.9 in c:\\users\\37065890\\appdata\\local\\anaconda3\\lib\\site-packages (from bokeh>=1.0.0->hvplot) (3.1.4)\n",
      "Requirement already satisfied: contourpy>=1.2 in c:\\users\\37065890\\appdata\\local\\anaconda3\\lib\\site-packages (from bokeh>=1.0.0->hvplot) (1.2.0)\n",
      "Requirement already satisfied: pillow>=7.1.0 in c:\\users\\37065890\\appdata\\local\\anaconda3\\lib\\site-packages (from bokeh>=1.0.0->hvplot) (10.3.0)\n",
      "Requirement already satisfied: PyYAML>=3.10 in c:\\users\\37065890\\appdata\\local\\anaconda3\\lib\\site-packages (from bokeh>=1.0.0->hvplot) (6.0.1)\n",
      "Requirement already satisfied: tornado>=6.2 in c:\\users\\37065890\\appdata\\local\\anaconda3\\lib\\site-packages (from bokeh>=1.0.0->hvplot) (6.4.1)\n",
      "Requirement already satisfied: xyzservices>=2021.09.1 in c:\\users\\37065890\\appdata\\local\\anaconda3\\lib\\site-packages (from bokeh>=1.0.0->hvplot) (2022.9.0)\n",
      "Requirement already satisfied: pyviz-comms>=2.1 in c:\\users\\37065890\\appdata\\local\\anaconda3\\lib\\site-packages (from holoviews>=1.11.0->hvplot) (3.0.2)\n",
      "Requirement already satisfied: python-dateutil>=2.8.2 in c:\\users\\37065890\\appdata\\local\\anaconda3\\lib\\site-packages (from pandas->hvplot) (2.9.0.post0)\n",
      "Requirement already satisfied: pytz>=2020.1 in c:\\users\\37065890\\appdata\\local\\anaconda3\\lib\\site-packages (from pandas->hvplot) (2024.1)\n",
      "Requirement already satisfied: tzdata>=2022.7 in c:\\users\\37065890\\appdata\\local\\anaconda3\\lib\\site-packages (from pandas->hvplot) (2023.3)\n",
      "Requirement already satisfied: markdown in c:\\users\\37065890\\appdata\\local\\anaconda3\\lib\\site-packages (from panel>=0.11.0->hvplot) (3.4.1)\n",
      "Requirement already satisfied: markdown-it-py in c:\\users\\37065890\\appdata\\local\\anaconda3\\lib\\site-packages (from panel>=0.11.0->hvplot) (2.2.0)\n",
      "Requirement already satisfied: linkify-it-py in c:\\users\\37065890\\appdata\\local\\anaconda3\\lib\\site-packages (from panel>=0.11.0->hvplot) (2.0.0)\n",
      "Requirement already satisfied: mdit-py-plugins in c:\\users\\37065890\\appdata\\local\\anaconda3\\lib\\site-packages (from panel>=0.11.0->hvplot) (0.3.0)\n",
      "Requirement already satisfied: requests in c:\\users\\37065890\\appdata\\local\\anaconda3\\lib\\site-packages (from panel>=0.11.0->hvplot) (2.32.2)\n",
      "Requirement already satisfied: tqdm>=4.48.0 in c:\\users\\37065890\\appdata\\local\\anaconda3\\lib\\site-packages (from panel>=0.11.0->hvplot) (4.66.4)\n",
      "Requirement already satisfied: bleach in c:\\users\\37065890\\appdata\\local\\anaconda3\\lib\\site-packages (from panel>=0.11.0->hvplot) (4.1.0)\n",
      "Requirement already satisfied: typing-extensions in c:\\users\\37065890\\appdata\\local\\anaconda3\\lib\\site-packages (from panel>=0.11.0->hvplot) (4.11.0)\n",
      "Requirement already satisfied: MarkupSafe>=2.0 in c:\\users\\37065890\\appdata\\local\\anaconda3\\lib\\site-packages (from Jinja2>=2.9->bokeh>=1.0.0->hvplot) (2.1.3)\n",
      "Requirement already satisfied: six>=1.5 in c:\\users\\37065890\\appdata\\local\\anaconda3\\lib\\site-packages (from python-dateutil>=2.8.2->pandas->hvplot) (1.16.0)\n",
      "Requirement already satisfied: colorama in c:\\users\\37065890\\appdata\\local\\anaconda3\\lib\\site-packages (from tqdm>=4.48.0->panel>=0.11.0->hvplot) (0.4.6)\n",
      "Requirement already satisfied: webencodings in c:\\users\\37065890\\appdata\\local\\anaconda3\\lib\\site-packages (from bleach->panel>=0.11.0->hvplot) (0.5.1)\n",
      "Requirement already satisfied: uc-micro-py in c:\\users\\37065890\\appdata\\local\\anaconda3\\lib\\site-packages (from linkify-it-py->panel>=0.11.0->hvplot) (1.0.1)\n",
      "Requirement already satisfied: mdurl~=0.1 in c:\\users\\37065890\\appdata\\local\\anaconda3\\lib\\site-packages (from markdown-it-py->panel>=0.11.0->hvplot) (0.1.0)\n",
      "Requirement already satisfied: charset-normalizer<4,>=2 in c:\\users\\37065890\\appdata\\local\\anaconda3\\lib\\site-packages (from requests->panel>=0.11.0->hvplot) (2.0.4)\n",
      "Requirement already satisfied: idna<4,>=2.5 in c:\\users\\37065890\\appdata\\local\\anaconda3\\lib\\site-packages (from requests->panel>=0.11.0->hvplot) (3.7)\n",
      "Requirement already satisfied: urllib3<3,>=1.21.1 in c:\\users\\37065890\\appdata\\local\\anaconda3\\lib\\site-packages (from requests->panel>=0.11.0->hvplot) (2.2.2)\n",
      "Requirement already satisfied: certifi>=2017.4.17 in c:\\users\\37065890\\appdata\\local\\anaconda3\\lib\\site-packages (from requests->panel>=0.11.0->hvplot) (2024.8.30)\n",
      "Collecting pandas_profiling\n",
      "  Downloading pandas_profiling-3.2.0-py2.py3-none-any.whl.metadata (21 kB)\n",
      "Collecting joblib~=1.1.0 (from pandas_profiling)\n",
      "  Downloading joblib-1.1.1-py2.py3-none-any.whl.metadata (5.2 kB)\n",
      "Requirement already satisfied: scipy>=1.4.1 in c:\\users\\37065890\\appdata\\local\\anaconda3\\lib\\site-packages (from pandas_profiling) (1.13.1)\n",
      "Requirement already satisfied: pandas!=1.0.0,!=1.0.1,!=1.0.2,!=1.1.0,>=0.25.3 in c:\\users\\37065890\\appdata\\local\\anaconda3\\lib\\site-packages (from pandas_profiling) (2.2.2)\n",
      "Requirement already satisfied: matplotlib>=3.2.0 in c:\\users\\37065890\\appdata\\local\\anaconda3\\lib\\site-packages (from pandas_profiling) (3.8.4)\n",
      "Requirement already satisfied: pydantic>=1.8.1 in c:\\users\\37065890\\appdata\\local\\anaconda3\\lib\\site-packages (from pandas_profiling) (2.5.3)\n",
      "Requirement already satisfied: PyYAML>=5.0.0 in c:\\users\\37065890\\appdata\\local\\anaconda3\\lib\\site-packages (from pandas_profiling) (6.0.1)\n",
      "Requirement already satisfied: jinja2>=2.11.1 in c:\\users\\37065890\\appdata\\local\\anaconda3\\lib\\site-packages (from pandas_profiling) (3.1.4)\n",
      "Requirement already satisfied: markupsafe~=2.1.1 in c:\\users\\37065890\\appdata\\local\\anaconda3\\lib\\site-packages (from pandas_profiling) (2.1.3)\n",
      "Collecting visions==0.7.4 (from visions[type_image_path]==0.7.4->pandas_profiling)\n",
      "  Downloading visions-0.7.4-py3-none-any.whl.metadata (5.9 kB)\n",
      "Requirement already satisfied: numpy>=1.16.0 in c:\\users\\37065890\\appdata\\local\\anaconda3\\lib\\site-packages (from pandas_profiling) (1.26.4)\n",
      "Collecting htmlmin>=0.1.12 (from pandas_profiling)\n",
      "  Downloading htmlmin-0.1.12.tar.gz (19 kB)\n",
      "  Preparing metadata (setup.py): started\n",
      "  Preparing metadata (setup.py): finished with status 'done'\n",
      "Collecting missingno>=0.4.2 (from pandas_profiling)\n",
      "  Downloading missingno-0.5.2-py3-none-any.whl.metadata (639 bytes)\n",
      "Collecting phik>=0.11.1 (from pandas_profiling)\n",
      "  Downloading phik-0.12.4-cp312-cp312-win_amd64.whl.metadata (5.6 kB)\n",
      "Collecting tangled-up-in-unicode==0.2.0 (from pandas_profiling)\n",
      "  Downloading tangled_up_in_unicode-0.2.0-py3-none-any.whl.metadata (4.8 kB)\n",
      "Requirement already satisfied: requests>=2.24.0 in c:\\users\\37065890\\appdata\\local\\anaconda3\\lib\\site-packages (from pandas_profiling) (2.32.2)\n",
      "Requirement already satisfied: tqdm>=4.48.2 in c:\\users\\37065890\\appdata\\local\\anaconda3\\lib\\site-packages (from pandas_profiling) (4.66.4)\n",
      "Requirement already satisfied: seaborn>=0.10.1 in c:\\users\\37065890\\appdata\\local\\anaconda3\\lib\\site-packages (from pandas_profiling) (0.13.2)\n",
      "Collecting multimethod>=1.4 (from pandas_profiling)\n",
      "  Downloading multimethod-1.12-py3-none-any.whl.metadata (9.6 kB)\n",
      "Requirement already satisfied: attrs>=19.3.0 in c:\\users\\37065890\\appdata\\local\\anaconda3\\lib\\site-packages (from visions==0.7.4->visions[type_image_path]==0.7.4->pandas_profiling) (23.1.0)\n",
      "Requirement already satisfied: networkx>=2.4 in c:\\users\\37065890\\appdata\\local\\anaconda3\\lib\\site-packages (from visions==0.7.4->visions[type_image_path]==0.7.4->pandas_profiling) (3.2.1)\n",
      "Collecting imagehash (from visions[type_image_path]==0.7.4->pandas_profiling)\n",
      "  Downloading ImageHash-4.3.1-py2.py3-none-any.whl.metadata (8.0 kB)\n",
      "Requirement already satisfied: Pillow in c:\\users\\37065890\\appdata\\local\\anaconda3\\lib\\site-packages (from visions[type_image_path]==0.7.4->pandas_profiling) (10.3.0)\n",
      "Requirement already satisfied: contourpy>=1.0.1 in c:\\users\\37065890\\appdata\\local\\anaconda3\\lib\\site-packages (from matplotlib>=3.2.0->pandas_profiling) (1.2.0)\n",
      "Requirement already satisfied: cycler>=0.10 in c:\\users\\37065890\\appdata\\local\\anaconda3\\lib\\site-packages (from matplotlib>=3.2.0->pandas_profiling) (0.11.0)\n",
      "Requirement already satisfied: fonttools>=4.22.0 in c:\\users\\37065890\\appdata\\local\\anaconda3\\lib\\site-packages (from matplotlib>=3.2.0->pandas_profiling) (4.51.0)\n",
      "Requirement already satisfied: kiwisolver>=1.3.1 in c:\\users\\37065890\\appdata\\local\\anaconda3\\lib\\site-packages (from matplotlib>=3.2.0->pandas_profiling) (1.4.4)\n",
      "Requirement already satisfied: packaging>=20.0 in c:\\users\\37065890\\appdata\\local\\anaconda3\\lib\\site-packages (from matplotlib>=3.2.0->pandas_profiling) (23.2)\n",
      "Requirement already satisfied: pyparsing>=2.3.1 in c:\\users\\37065890\\appdata\\local\\anaconda3\\lib\\site-packages (from matplotlib>=3.2.0->pandas_profiling) (3.0.9)\n",
      "Requirement already satisfied: python-dateutil>=2.7 in c:\\users\\37065890\\appdata\\local\\anaconda3\\lib\\site-packages (from matplotlib>=3.2.0->pandas_profiling) (2.9.0.post0)\n",
      "Requirement already satisfied: pytz>=2020.1 in c:\\users\\37065890\\appdata\\local\\anaconda3\\lib\\site-packages (from pandas!=1.0.0,!=1.0.1,!=1.0.2,!=1.1.0,>=0.25.3->pandas_profiling) (2024.1)\n",
      "Requirement already satisfied: tzdata>=2022.7 in c:\\users\\37065890\\appdata\\local\\anaconda3\\lib\\site-packages (from pandas!=1.0.0,!=1.0.1,!=1.0.2,!=1.1.0,>=0.25.3->pandas_profiling) (2023.3)\n",
      "Requirement already satisfied: annotated-types>=0.4.0 in c:\\users\\37065890\\appdata\\local\\anaconda3\\lib\\site-packages (from pydantic>=1.8.1->pandas_profiling) (0.6.0)\n",
      "Requirement already satisfied: pydantic-core==2.14.6 in c:\\users\\37065890\\appdata\\local\\anaconda3\\lib\\site-packages (from pydantic>=1.8.1->pandas_profiling) (2.14.6)\n",
      "Requirement already satisfied: typing-extensions>=4.6.1 in c:\\users\\37065890\\appdata\\local\\anaconda3\\lib\\site-packages (from pydantic>=1.8.1->pandas_profiling) (4.11.0)\n",
      "Requirement already satisfied: charset-normalizer<4,>=2 in c:\\users\\37065890\\appdata\\local\\anaconda3\\lib\\site-packages (from requests>=2.24.0->pandas_profiling) (2.0.4)\n",
      "Requirement already satisfied: idna<4,>=2.5 in c:\\users\\37065890\\appdata\\local\\anaconda3\\lib\\site-packages (from requests>=2.24.0->pandas_profiling) (3.7)\n",
      "Requirement already satisfied: urllib3<3,>=1.21.1 in c:\\users\\37065890\\appdata\\local\\anaconda3\\lib\\site-packages (from requests>=2.24.0->pandas_profiling) (2.2.2)\n",
      "Requirement already satisfied: certifi>=2017.4.17 in c:\\users\\37065890\\appdata\\local\\anaconda3\\lib\\site-packages (from requests>=2.24.0->pandas_profiling) (2024.8.30)\n",
      "Requirement already satisfied: colorama in c:\\users\\37065890\\appdata\\local\\anaconda3\\lib\\site-packages (from tqdm>=4.48.2->pandas_profiling) (0.4.6)\n",
      "Requirement already satisfied: six>=1.5 in c:\\users\\37065890\\appdata\\local\\anaconda3\\lib\\site-packages (from python-dateutil>=2.7->matplotlib>=3.2.0->pandas_profiling) (1.16.0)\n",
      "Requirement already satisfied: PyWavelets in c:\\users\\37065890\\appdata\\local\\anaconda3\\lib\\site-packages (from imagehash->visions[type_image_path]==0.7.4->pandas_profiling) (1.5.0)\n",
      "Downloading pandas_profiling-3.2.0-py2.py3-none-any.whl (262 kB)\n",
      "   ---------------------------------------- 0.0/262.6 kB ? eta -:--:--\n",
      "   ------------------------------- -------- 204.8/262.6 kB 6.3 MB/s eta 0:00:01\n",
      "   ---------------------------------------- 262.6/262.6 kB 4.1 MB/s eta 0:00:00\n",
      "Downloading tangled_up_in_unicode-0.2.0-py3-none-any.whl (4.7 MB)\n",
      "   ---------------------------------------- 0.0/4.7 MB ? eta -:--:--\n",
      "   --- ------------------------------------ 0.4/4.7 MB 11.2 MB/s eta 0:00:01\n",
      "   ----- ---------------------------------- 0.7/4.7 MB 10.9 MB/s eta 0:00:01\n",
      "   ----------- ---------------------------- 1.4/4.7 MB 11.1 MB/s eta 0:00:01\n",
      "   ---------------- ----------------------- 1.9/4.7 MB 11.1 MB/s eta 0:00:01\n",
      "   --------------------- ------------------ 2.5/4.7 MB 11.4 MB/s eta 0:00:01\n",
      "   ------------------------- -------------- 3.1/4.7 MB 11.5 MB/s eta 0:00:01\n",
      "   ------------------------------ --------- 3.6/4.7 MB 11.5 MB/s eta 0:00:01\n",
      "   ----------------------------------- ---- 4.2/4.7 MB 11.5 MB/s eta 0:00:01\n",
      "   ---------------------------------------  4.7/4.7 MB 11.6 MB/s eta 0:00:01\n",
      "   ---------------------------------------- 4.7/4.7 MB 10.8 MB/s eta 0:00:00\n",
      "Downloading visions-0.7.4-py3-none-any.whl (102 kB)\n",
      "   ---------------------------------------- 0.0/102.4 kB ? eta -:--:--\n",
      "   ---------------------------------------- 102.4/102.4 kB 5.8 MB/s eta 0:00:00\n",
      "Downloading joblib-1.1.1-py2.py3-none-any.whl (309 kB)\n",
      "   ---------------------------------------- 0.0/309.8 kB ? eta -:--:--\n",
      "   ---------------------------------------- 309.8/309.8 kB 9.7 MB/s eta 0:00:00\n",
      "Downloading missingno-0.5.2-py3-none-any.whl (8.7 kB)\n",
      "Downloading multimethod-1.12-py3-none-any.whl (10 kB)\n",
      "Downloading phik-0.12.4-cp312-cp312-win_amd64.whl (666 kB)\n",
      "   ---------------------------------------- 0.0/666.4 kB ? eta -:--:--\n",
      "   -------------------------- ------------ 450.6/666.4 kB 14.2 MB/s eta 0:00:01\n",
      "   --------------------------------------- 666.4/666.4 kB 14.0 MB/s eta 0:00:00\n",
      "Downloading ImageHash-4.3.1-py2.py3-none-any.whl (296 kB)\n",
      "   ---------------------------------------- 0.0/296.5 kB ? eta -:--:--\n",
      "   --------------------------------------- 296.5/296.5 kB 19.1 MB/s eta 0:00:00\n",
      "Building wheels for collected packages: htmlmin\n",
      "  Building wheel for htmlmin (setup.py): started\n",
      "  Building wheel for htmlmin (setup.py): finished with status 'done'\n",
      "  Created wheel for htmlmin: filename=htmlmin-0.1.12-py3-none-any.whl size=27092 sha256=7638a0c899baa4d65798909c6fecc94d35f939bf0e54ec47c07f5d04ed9b5e8a\n",
      "  Stored in directory: c:\\users\\37065890\\appdata\\local\\pip\\cache\\wheels\\5f\\d4\\d7\\4189b07b5902ee9f3ce0dbb14909fbe8037c39d6c63ffd49c9\n",
      "Successfully built htmlmin\n",
      "Installing collected packages: htmlmin, tangled-up-in-unicode, multimethod, joblib, imagehash, visions, phik, missingno, pandas_profiling\n",
      "  Attempting uninstall: joblib\n",
      "    Found existing installation: joblib 1.4.2\n",
      "    Uninstalling joblib-1.4.2:\n",
      "      Successfully uninstalled joblib-1.4.2\n",
      "Successfully installed htmlmin-0.1.12 imagehash-4.3.1 joblib-1.1.1 missingno-0.5.2 multimethod-1.12 pandas_profiling-3.2.0 phik-0.12.4 tangled-up-in-unicode-0.2.0 visions-0.7.4\n"
     ]
    },
    {
     "name": "stderr",
     "output_type": "stream",
     "text": [
      "ERROR: pip's dependency resolver does not currently take into account all the packages that are installed. This behaviour is the source of the following dependency conflicts.\n",
      "scikit-learn 1.4.2 requires joblib>=1.2.0, but you have joblib 1.1.1 which is incompatible.\n"
     ]
    }
   ],
   "source": [
    "# Install the required libraries\n",
    "!pip install prophet\n",
    "!pip install hvplot\n"
   ]
  },
  {
   "cell_type": "code",
   "execution_count": 65,
   "metadata": {
    "colab": {
     "base_uri": "https://localhost:8080/",
     "height": 17
    },
    "id": "qnzrTQf512T7",
    "outputId": "a43e702d-90d2-42be-bc27-b8bb1256b20f"
   },
   "outputs": [],
   "source": [
    "# Import the required libraries and dependencies\n",
    "import pandas as pd\n",
    "pd.options.mode.chained_assignment = None  # default='warn'\n",
    "import matplotlib.pyplot as plt\n",
    "import seaborn as sns\n",
    "from prophet import Prophet\n",
    "import datetime as dt\n",
    "from datetime import datetime\n",
    "import numpy as np\n",
    "import datetime\n",
    "%matplotlib inline\n",
    "from matplotlib import style \n",
    "plt.style.use(\"ggplot\")"
   ]
  },
  {
   "cell_type": "code",
   "execution_count": 66,
   "metadata": {},
   "outputs": [
    {
     "name": "stdout",
     "output_type": "stream",
     "text": [
      "['Solarize_Light2', '_classic_test_patch', '_mpl-gallery', '_mpl-gallery-nogrid', 'bmh', 'classic', 'dark_background', 'fast', 'fivethirtyeight', 'ggplot', 'grayscale', 'seaborn-v0_8', 'seaborn-v0_8-bright', 'seaborn-v0_8-colorblind', 'seaborn-v0_8-dark', 'seaborn-v0_8-dark-palette', 'seaborn-v0_8-darkgrid', 'seaborn-v0_8-deep', 'seaborn-v0_8-muted', 'seaborn-v0_8-notebook', 'seaborn-v0_8-paper', 'seaborn-v0_8-pastel', 'seaborn-v0_8-poster', 'seaborn-v0_8-talk', 'seaborn-v0_8-ticks', 'seaborn-v0_8-white', 'seaborn-v0_8-whitegrid', 'tableau-colorblind10']\n"
     ]
    }
   ],
   "source": [
    "print(plt.style.available)"
   ]
  },
  {
   "cell_type": "code",
   "execution_count": 40,
   "metadata": {},
   "outputs": [
    {
     "name": "stdout",
     "output_type": "stream",
     "text": [
      "<class 'pandas.core.frame.DataFrame'>\n",
      "RangeIndex: 918 entries, 0 to 917\n",
      "Data columns (total 2 columns):\n",
      " #   Column  Non-Null Count  Dtype  \n",
      "---  ------  --------------  -----  \n",
      " 0   date    918 non-null    object \n",
      " 1   value   918 non-null    float64\n",
      "dtypes: float64(1), object(1)\n",
      "memory usage: 14.5+ KB\n"
     ]
    }
   ],
   "source": [
    "df_inflat = pd.read_csv(\"../Resources/Data/US_inflation_rates.csv\")\n",
    "df_inflat.info()    \n",
    "\n"
   ]
  },
  {
   "cell_type": "code",
   "execution_count": 42,
   "metadata": {},
   "outputs": [],
   "source": [
    "#fucntion to get unique years\n",
    "def get_unique_years(df):\n",
    "    # Convert the 'date' column to datetime\n",
    "    df['date'] = pd.to_datetime(df['date'])\n",
    "    # Extract the year\n",
    "    df['year'] = df['date'].dt.year\n",
    "    # Get unique years\n",
    "    unique_years = df['year'].unique()\n",
    "    return unique_years"
   ]
  },
  {
   "cell_type": "code",
   "execution_count": 68,
   "metadata": {},
   "outputs": [
    {
     "name": "stdout",
     "output_type": "stream",
     "text": [
      "<class 'pandas.core.frame.DataFrame'>\n",
      "DatetimeIndex: 102 entries, 2015-01-01 to 2023-06-01\n",
      "Data columns (total 3 columns):\n",
      " #   Column  Non-Null Count  Dtype         \n",
      "---  ------  --------------  -----         \n",
      " 0   date    102 non-null    datetime64[ns]\n",
      " 1   value   102 non-null    float64       \n",
      " 2   year    102 non-null    int32         \n",
      "dtypes: datetime64[ns](1), float64(1), int32(1)\n",
      "memory usage: 6.9 KB\n"
     ]
    }
   ],
   "source": [
    "df_inflat.info() "
   ]
  },
  {
   "cell_type": "code",
   "execution_count": 69,
   "metadata": {},
   "outputs": [
    {
     "data": {
      "text/plain": [
       "Text(0, 0.5, 'CPI Value')"
      ]
     },
     "execution_count": 69,
     "metadata": {},
     "output_type": "execute_result"
    },
    {
     "data": {
      "image/png": "[encoded data removed]",
      "text/plain": [
       "<Figure size 1000x400 with 1 Axes>"
      ]
     },
     "metadata": {},
     "output_type": "display_data"
    }
   ],
   "source": [
    "fig = plt.figure(dpi=100)\n",
    "df_inflat['value'].loc['2015':'2024'].plot(figsize=(10,4))\n",
    "plt.xlabel('Date')\n",
    "plt.ylabel('CPI Value')\n"
   ]
  },
  {
   "cell_type": "code",
   "execution_count": 70,
   "metadata": {},
   "outputs": [
    {
     "data": {
      "text/html": [
       "<div>\n",
       "<style scoped>\n",
       "    .dataframe tbody tr th:only-of-type {\n",
       "        vertical-align: middle;\n",
       "    }\n",
       "\n",
       "    .dataframe tbody tr th {\n",
       "        vertical-align: top;\n",
       "    }\n",
       "\n",
       "    .dataframe thead th {\n",
       "        text-align: right;\n",
       "    }\n",
       "</style>\n",
       "<table border=\"1\" class=\"dataframe\">\n",
       "  <thead>\n",
       "    <tr style=\"text-align: right;\">\n",
       "      <th></th>\n",
       "      <th>date</th>\n",
       "      <th>value</th>\n",
       "      <th>year</th>\n",
       "    </tr>\n",
       "    <tr>\n",
       "      <th>dte</th>\n",
       "      <th></th>\n",
       "      <th></th>\n",
       "      <th></th>\n",
       "    </tr>\n",
       "  </thead>\n",
       "  <tbody>\n",
       "    <tr>\n",
       "      <th>2015-01-01</th>\n",
       "      <td>2015-01-01</td>\n",
       "      <td>234.747</td>\n",
       "      <td>2015</td>\n",
       "    </tr>\n",
       "    <tr>\n",
       "      <th>2015-02-01</th>\n",
       "      <td>2015-02-01</td>\n",
       "      <td>235.342</td>\n",
       "      <td>2015</td>\n",
       "    </tr>\n",
       "    <tr>\n",
       "      <th>2015-03-01</th>\n",
       "      <td>2015-03-01</td>\n",
       "      <td>235.976</td>\n",
       "      <td>2015</td>\n",
       "    </tr>\n",
       "    <tr>\n",
       "      <th>2015-04-01</th>\n",
       "      <td>2015-04-01</td>\n",
       "      <td>236.222</td>\n",
       "      <td>2015</td>\n",
       "    </tr>\n",
       "    <tr>\n",
       "      <th>2015-05-01</th>\n",
       "      <td>2015-05-01</td>\n",
       "      <td>237.001</td>\n",
       "      <td>2015</td>\n",
       "    </tr>\n",
       "  </tbody>\n",
       "</table>\n",
       "</div>"
      ],
      "text/plain": [
       "                 date    value  year\n",
       "dte                                 \n",
       "2015-01-01 2015-01-01  234.747  2015\n",
       "2015-02-01 2015-02-01  235.342  2015\n",
       "2015-03-01 2015-03-01  235.976  2015\n",
       "2015-04-01 2015-04-01  236.222  2015\n",
       "2015-05-01 2015-05-01  237.001  2015"
      ]
     },
     "execution_count": 70,
     "metadata": {},
     "output_type": "execute_result"
    }
   ],
   "source": [
    "df_inflat.head()"
   ]
  },
  {
   "cell_type": "code",
   "execution_count": null,
   "metadata": {},
   "outputs": [
    {
     "name": "stdout",
     "output_type": "stream",
     "text": [
      "                 date    value  year\n",
      "dte                                 \n",
      "2015-01-01 2015-01-01  234.747  2015\n",
      "2015-02-01 2015-02-01  235.342  2015\n",
      "2015-03-01 2015-03-01  235.976  2015\n",
      "2015-04-01 2015-04-01  236.222  2015\n",
      "2015-05-01 2015-05-01  237.001  2015\n",
      "...               ...      ...   ...\n",
      "2023-02-01 2023-02-01  301.648  2023\n",
      "2023-03-01 2023-03-01  301.808  2023\n",
      "2023-04-01 2023-04-01  302.918  2023\n",
      "2023-05-01 2023-05-01  303.294  2023\n",
      "2023-06-01 2023-06-01  303.841  2023\n",
      "\n",
      "[102 rows x 3 columns]\n"
     ]
    }
   ],
   "source": [
    "df_inflat = df_inflat.loc[\"2015-01\":\"2024-01\"]\n",
    "print(df_inflat)\n"
   ]
  },
  {
   "cell_type": "code",
   "execution_count": 73,
   "metadata": {},
   "outputs": [],
   "source": [
    "#Targeting a 2% inflation rate since 2015, add a line to same plot to starting with the 2015 value\n",
    "#df_inflationrates['value'].loc['2015':'2023'].iloc[0]\n",
    "start = df_inflat['value'].loc['2015':'2024'].iloc[0]\n",
    "\n",
    "#set the periods to the length of the my date range\n",
    "periods = get_unique_years(df_inflat).shape[0]"
   ]
  },
  {
   "cell_type": "code",
   "execution_count": 74,
   "metadata": {},
   "outputs": [
    {
     "data": {
      "text/plain": [
       "(234.747, 9)"
      ]
     },
     "execution_count": 74,
     "metadata": {},
     "output_type": "execute_result"
    }
   ],
   "source": [
    "start,periods"
   ]
  },
  {
   "cell_type": "code",
   "execution_count": 75,
   "metadata": {},
   "outputs": [],
   "source": [
    "#add function that calculates the 2% inflation rate\n",
    "def get_target_cpi(previous_cpi):\n",
    "    return previous_cpi + 0.02*(previous_cpi)"
   ]
  },
  {
   "cell_type": "code",
   "execution_count": 76,
   "metadata": {},
   "outputs": [],
   "source": [
    "target_cpis = [start]\n",
    "for year in range(0,periods):\n",
    "    target_cpis.append(get_target_cpi(target_cpis[year]))"
   ]
  },
  {
   "cell_type": "code",
   "execution_count": 77,
   "metadata": {},
   "outputs": [
    {
     "data": {
      "text/plain": [
       "[234.747,\n",
       " 239.44194000000002,\n",
       " 244.23077880000002,\n",
       " 249.115394376,\n",
       " 254.09770226352,\n",
       " 259.1796563087904,\n",
       " 264.36324943496624,\n",
       " 269.6505144236656,\n",
       " 275.0435247121389,\n",
       " 280.5443952063817]"
      ]
     },
     "execution_count": 77,
     "metadata": {},
     "output_type": "execute_result"
    }
   ],
   "source": [
    "target_cpis"
   ]
  },
  {
   "cell_type": "code",
   "execution_count": 78,
   "metadata": {},
   "outputs": [
    {
     "data": {
      "text/plain": [
       "10"
      ]
     },
     "execution_count": 78,
     "metadata": {},
     "output_type": "execute_result"
    }
   ],
   "source": [
    "len(target_cpis)"
   ]
  },
  {
   "cell_type": "code",
   "execution_count": 80,
   "metadata": {},
   "outputs": [],
   "source": [
    "#Creating a pandas series for the target CPIs starting in 2015:\n",
    "years = pd.date_range(start=datetime.datetime(2015,1,1),periods=periods+1,freq='YE')\n",
    "#dates\n",
    "target_cpi_series = pd.Series(data=target_cpis, index=years)"
   ]
  },
  {
   "cell_type": "code",
   "execution_count": 81,
   "metadata": {},
   "outputs": [
    {
     "data": {
      "text/plain": [
       "Text(0, 0.5, 'DFW CPI Value')"
      ]
     },
     "execution_count": 81,
     "metadata": {},
     "output_type": "execute_result"
    },
    {
     "data": {
      "image/png": "[encoded data removed]",
      "text/plain": [
       "<Figure size 1000x400 with 1 Axes>"
      ]
     },
     "metadata": {},
     "output_type": "display_data"
    }
   ],
   "source": [
    "#plot out the figure\n",
    "fig = plt.figure(dpi=100)\n",
    "df_inflat['value'].loc['2015':'2023'].plot(figsize=(10,4))\n",
    "target_cpi_series.plot(ls='--') \n",
    "plt.xlabel('YTD')\n",
    "plt.ylabel('DFW CPI Value')"
   ]
  }
 ],
 "metadata": {
  "colab": {
   "provenance": []
  },
  "kernelspec": {
   "display_name": "base",
   "language": "python",
   "name": "python3"
  },
  "language_info": {
   "codemirror_mode": {
    "name": "ipython",
    "version": 3
   },
   "file_extension": ".py",
   "mimetype": "text/x-python",
   "name": "python",
   "nbconvert_exporter": "python",
   "pygments_lexer": "ipython3",
   "version": "3.12.4"
  }
 },
 "nbformat": 4,
 "nbformat_minor": 0
}
